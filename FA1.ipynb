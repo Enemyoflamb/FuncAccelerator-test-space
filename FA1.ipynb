{
 "cells": [
  {
   "cell_type": "markdown",
   "id": "93cd81cb-e968-467e-b3ad-6ff2a85f39d9",
   "metadata": {},
   "source": [
    "### This is notes for me to learn PyRTL\n"
   ]
  },
  {
   "cell_type": "code",
   "execution_count": 25,
   "id": "da1d773a-3375-4b98-a72b-c530494f4c03",
   "metadata": {},
   "outputs": [],
   "source": [
    "#!pip install pyrtl\n",
    "#reset working space each time\n",
    "import pyrtl\n",
    "pyrtl.reset_working_block()"
   ]
  },
  {
   "cell_type": "code",
   "execution_count": 26,
   "id": "6bb2b454-30fc-4e4d-99b0-b4b5776c7f7b",
   "metadata": {},
   "outputs": [
    {
     "data": {
      "application/javascript": [
       "var script=document.createElement('script');script.src='https://code.jquery.com/jquery-3.6.0.min.js';document.head.appendChild(script);"
      ],
      "text/plain": [
       "<IPython.core.display.Javascript object>"
      ]
     },
     "metadata": {},
     "output_type": "display_data"
    }
   ],
   "source": [
    "from IPython.display import Javascript, display\n",
    "display(Javascript('''var script=document.createElement('script');script.src='https://code.jquery.com/jquery-3.6.0.min.js';document.head.appendChild(script);'''))"
   ]
  },
  {
   "cell_type": "markdown",
   "id": "49bdacdc-1dca-41e3-bdd4-7ee376ab2c4a",
   "metadata": {},
   "source": [
    "In PyRTL, every hardware signal — inputs, outputs, registers, wires — must be explicitly declared as a wire with a fixed bit width.\n",
    "These declarations are not variables (like Python integers) — they are hardware ports that will exist on your simulated chip.\n",
    "\n",
    "```pyrtl.Input(width, name)```\n",
    "defines an input wire (like a pin on your chip).\n",
    "It represents a value coming from outside the circuit each clock cycle.\n",
    "\n",
    "Here we create four 16-bit inputs for each vector a and b.\n",
    "\n",
    "They correspond to the elements of two 4-element vectors.\n",
    "\n",
    "Each of these wires can carry a number between 0 and 2^16 − 1 (unsigned by default), or you can interpret them as signed fixed-point later if needed.\n",
    "\n",
    "```pyrtl.Output(width, name)``` defines an output port — a signal that leaves the circuit.\n",
    "\n",
    "You assign to it using <<=, which means “connect this wire to that logic.”"
   ]
  },
  {
   "cell_type": "code",
   "execution_count": 27,
   "id": "e115f459-c710-422a-8f08-74a593e83234",
   "metadata": {},
   "outputs": [],
   "source": [
    "#a and b are inputs; output is out lol\n",
    "#the names of each wire object is just named 'a0', etc.\n",
    "a = [pyrtl.Input(16, f'a{i}') for i in range(4)]\n",
    "b = [pyrtl.Input(16, f'b{i}') for i in range(4)]\n",
    "out = pyrtl.Output(32, 'out')"
   ]
  },
  {
   "cell_type": "code",
   "execution_count": 28,
   "id": "9b006d58-edbe-44b0-bee3-e7088097850c",
   "metadata": {},
   "outputs": [],
   "source": [
    "#parallel multiplies\n",
    "products = [a[i] * b[i] for i in range(4)]\n",
    "\n",
    "#add tree (reduction)\n",
    "sum1 = products[0] + products[1]\n",
    "sum2 = products[2] + products[3]\n",
    "total = sum1 + sum2\n",
    "\n",
    "out <<= total"
   ]
  },
  {
   "cell_type": "markdown",
   "id": "6bee3d3f-34f2-4f9b-9168-c733a85e0117",
   "metadata": {},
   "source": [
    "Vocab: \n",
    "A clock cycle is the fundamental unit of time in digital hardware.\n",
    "In hardware, everything runs in lockstep with a clock signal — a repeating waveform that ticks at a fixed rate. (If you play minecraft, its analogous to how things in minecraft run on ticks; except that like there are billions of cycles per second instead of 20 tps)\n",
    "\n",
    "During a cycle:\n",
    "\n",
    "1. Inputs change (driven by the previous register values or external signals).\n",
    "\n",
    "2. Logic computes outputs.\n",
    "\n",
    "3. The clock ticks → registers update.\n",
    "\n",
    "4. The process repeats.\n",
    "\n",
    "During simulation:\n",
    " * We provide a dictionary of input values per cycle (this is the ```inputs = ...``` section)\n",
    " * PyRTL will drive those input wires with your numbers for that clock cycle.\n",
    " * The circuit that was built (in our case, the multiplier + adder tree) computes ```out```.\n",
    " * You can inspect ```out``` using ```sim.inspect(out)```."
   ]
  },
  {
   "cell_type": "code",
   "execution_count": 29,
   "id": "c1e131e0-8228-46f0-9eef-33bc8bc1c91e",
   "metadata": {},
   "outputs": [
    {
     "name": "stdout",
     "output_type": "stream",
     "text": [
      "Cycle 0: out = 40\n",
      "Cycle 1: out = 40\n",
      "Cycle 2: out = 40\n"
     ]
    },
    {
     "data": {
      "text/html": [
       "<script type=\"WaveDrom\">\n",
       "{\n",
       "  signal : [\n",
       "    { name: \"a0\",  wave: \"=..\", data: [\"0x1\"] },\n",
       "    { name: \"a1\",  wave: \"=..\", data: [\"0x2\"] },\n",
       "    { name: \"a2\",  wave: \"=..\", data: [\"0x3\"] },\n",
       "    { name: \"a3\",  wave: \"=..\", data: [\"0x4\"] },\n",
       "    { name: \"b0\",  wave: \"=..\", data: [\"0x2\"] },\n",
       "    { name: \"b1\",  wave: \"=..\", data: [\"0x3\"] },\n",
       "    { name: \"b2\",  wave: \"=..\", data: [\"0x4\"] },\n",
       "    { name: \"b3\",  wave: \"=..\", data: [\"0x5\"] },\n",
       "    { name: \"out\",  wave: \"=..\", data: [\"0x28\"] },\n",
       "  ],\n",
       "  config: { hscale: 1 }\n",
       "}\n",
       "</script>\n"
      ],
      "text/plain": [
       "<IPython.core.display.HTML object>"
      ]
     },
     "metadata": {},
     "output_type": "display_data"
    },
    {
     "data": {
      "application/javascript": [
       "\n",
       "            $.when(\n",
       "            $.getScript(\"https://cdnjs.cloudflare.com/ajax/libs/wavedrom/1.6.2/skins/default.js\"),\n",
       "            $.getScript(\"https://cdnjs.cloudflare.com/ajax/libs/wavedrom/1.6.2/wavedrom.min.js\"),\n",
       "            $.Deferred(function( deferred ){\n",
       "                $( deferred.resolve );\n",
       "            })).done(function(){\n",
       "                WaveDrom.ProcessAll();\n",
       "            });"
      ],
      "text/plain": [
       "<IPython.core.display.Javascript object>"
      ]
     },
     "metadata": {},
     "output_type": "display_data"
    }
   ],
   "source": [
    "#simulation\n",
    "sim_trace = pyrtl.SimulationTrace()\n",
    "sim = pyrtl.Simulation(tracer=sim_trace)\n",
    "\n",
    "# Provide example inputs and simulate a few cycles\n",
    "for cycle in range(3):\n",
    "    inputs = {f'a{i}': i+1 for i in range(4)}   # a = [1,2,3,4]\n",
    "    inputs.update({f'b{i}': (i+2) for i in range(4)})  # b = [2,3,4,5]\n",
    "    sim.step(inputs)\n",
    "    print(f\"Cycle {cycle}: out = {sim.inspect(out)}\")\n",
    "\n",
    "#this is what it should render as:\n",
    "#if this doesnt work, save it as an html file and view it externally lmao\n",
    "sim_trace.render_trace()"
   ]
  },
  {
   "cell_type": "code",
   "execution_count": null,
   "id": "39a668ee-50d7-422d-a504-a67109ff8fc8",
   "metadata": {},
   "outputs": [],
   "source": []
  }
 ],
 "metadata": {
  "kernelspec": {
   "display_name": "Python 3 (ipykernel)",
   "language": "python",
   "name": "python3"
  },
  "language_info": {
   "codemirror_mode": {
    "name": "ipython",
    "version": 3
   },
   "file_extension": ".py",
   "mimetype": "text/x-python",
   "name": "python",
   "nbconvert_exporter": "python",
   "pygments_lexer": "ipython3",
   "version": "3.11.9"
  }
 },
 "nbformat": 4,
 "nbformat_minor": 5
}
