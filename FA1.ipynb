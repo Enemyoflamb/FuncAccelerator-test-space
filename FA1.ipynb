{
 "cells": [
  {
   "cell_type": "markdown",
   "id": "93cd81cb-e968-467e-b3ad-6ff2a85f39d9",
   "metadata": {},
   "source": [
    "### This is notes for me to learn PyRTL\n"
   ]
  },
  {
   "cell_type": "code",
   "execution_count": 25,
   "id": "da1d773a-3375-4b98-a72b-c530494f4c03",
   "metadata": {},
   "outputs": [],
   "source": [
    "#!pip install pyrtl\n",
    "#reset working space each time\n",
    "import pyrtl\n",
    "pyrtl.reset_working_block()"
   ]
  },
  {
   "cell_type": "code",
   "execution_count": 26,
   "id": "6bb2b454-30fc-4e4d-99b0-b4b5776c7f7b",
   "metadata": {},
   "outputs": [
    {
     "data": {
      "application/javascript": [
       "var script=document.createElement('script');script.src='https://code.jquery.com/jquery-3.6.0.min.js';document.head.appendChild(script);"
      ],
      "text/plain": [
       "<IPython.core.display.Javascript object>"
      ]
     },
     "metadata": {},
     "output_type": "display_data"
    }
   ],
   "source": [
    "from IPython.display import Javascript, display\n",
    "display(Javascript('''var script=document.createElement('script');script.src='https://code.jquery.com/jquery-3.6.0.min.js';document.head.appendChild(script);'''))"
   ]
  },
  {
   "cell_type": "markdown",
   "id": "49bdacdc-1dca-41e3-bdd4-7ee376ab2c4a",
   "metadata": {},
   "source": [
    "In PyRTL, every hardware signal — inputs, outputs, registers, wires — must be explicitly declared as a wire with a fixed bit width.\n",
    "These declarations are not variables (like Python integers) — they are hardware ports that will exist on your simulated chip.\n",
    "\n",
    "```pyrtl.Input(width, name)```\n",
    "defines an input wire (like a pin on your chip).\n",
    "It represents a value coming from outside the circuit each clock cycle.\n",
    "\n",
    "Here we create four 16-bit inputs for each vector a and b.\n",
    "\n",
    "They correspond to the elements of two 4-element vectors.\n",
    "\n",
    "Each of these wires can carry a number between 0 and 2^16 − 1 (unsigned by default), or you can interpret them as signed fixed-point later if needed.\n",
    "\n",
    "```pyrtl.Output(width, name)``` defines an output port — a signal that leaves the circuit.\n",
    "\n",
    "We assign to it using <<=, which means \"connect this wire to that logic.\""
   ]
  },
  {
   "cell_type": "code",
   "execution_count": 27,
   "id": "e115f459-c710-422a-8f08-74a593e83234",
   "metadata": {},
   "outputs": [],
   "source": [
    "#a and b are inputs; output is out lol\n",
    "#the names of each wire object is just named 'a0', etc.\n",
    "a = [pyrtl.Input(16, f'a{i}') for i in range(4)]\n",
    "b = [pyrtl.Input(16, f'b{i}') for i in range(4)]\n",
    "out = pyrtl.Output(32, 'out')"
   ]
  },
  {
   "cell_type": "code",
   "execution_count": 28,
   "id": "9b006d58-edbe-44b0-bee3-e7088097850c",
   "metadata": {},
   "outputs": [],
   "source": [
    "#parallel multiplies\n",
    "products = [a[i] * b[i] for i in range(4)]\n",
    "\n",
    "#add tree (reduction)\n",
    "sum1 = products[0] + products[1]\n",
    "sum2 = products[2] + products[3]\n",
    "total = sum1 + sum2\n",
    "\n",
    "out <<= total"
   ]
  },
  {
   "cell_type": "markdown",
   "id": "6bee3d3f-34f2-4f9b-9168-c733a85e0117",
   "metadata": {},
   "source": [
    "Vocab: \n",
    "A clock cycle is the fundamental unit of time in digital hardware.\n",
    "In hardware, everything runs in lockstep with a clock signal — a repeating waveform that ticks at a fixed rate. (If you play minecraft, its analogous to how things in minecraft run on ticks; except that like there are billions of cycles per second instead of 20 tps)\n",
    "\n",
    "During a cycle:\n",
    "\n",
    "1. Inputs change (driven by the previous register values or external signals).\n",
    "\n",
    "2. Logic computes outputs.\n",
    "\n",
    "3. The clock ticks → registers update.\n",
    "\n",
    "4. The process repeats.\n",
    "\n",
    "During simulation:\n",
    " * We provide a dictionary of input values per cycle (this is the ```inputs = ...``` section)\n",
    " * PyRTL will drive those input wires with your numbers for that clock cycle.\n",
    " * The circuit that was built (in our case, the multiplier + adder tree) computes ```out```.\n",
    " * You can inspect ```out``` using ```sim.inspect(out)```."
   ]
  },
  {
   "cell_type": "code",
   "execution_count": 29,
   "id": "c1e131e0-8228-46f0-9eef-33bc8bc1c91e",
   "metadata": {},
   "outputs": [
    {
     "name": "stdout",
     "output_type": "stream",
     "text": [
      "Cycle 0: out = 40\n",
      "Cycle 1: out = 40\n",
      "Cycle 2: out = 40\n"
     ]
    },
    {
     "data": {
      "text/html": [
       "<script type=\"WaveDrom\">\n",
       "{\n",
       "  signal : [\n",
       "    { name: \"a0\",  wave: \"=..\", data: [\"0x1\"] },\n",
       "    { name: \"a1\",  wave: \"=..\", data: [\"0x2\"] },\n",
       "    { name: \"a2\",  wave: \"=..\", data: [\"0x3\"] },\n",
       "    { name: \"a3\",  wave: \"=..\", data: [\"0x4\"] },\n",
       "    { name: \"b0\",  wave: \"=..\", data: [\"0x2\"] },\n",
       "    { name: \"b1\",  wave: \"=..\", data: [\"0x3\"] },\n",
       "    { name: \"b2\",  wave: \"=..\", data: [\"0x4\"] },\n",
       "    { name: \"b3\",  wave: \"=..\", data: [\"0x5\"] },\n",
       "    { name: \"out\",  wave: \"=..\", data: [\"0x28\"] },\n",
       "  ],\n",
       "  config: { hscale: 1 }\n",
       "}\n",
       "</script>\n"
      ],
      "text/plain": [
       "<IPython.core.display.HTML object>"
      ]
     },
     "metadata": {},
     "output_type": "display_data"
    },
    {
     "data": {
      "application/javascript": [
       "\n",
       "            $.when(\n",
       "            $.getScript(\"https://cdnjs.cloudflare.com/ajax/libs/wavedrom/1.6.2/skins/default.js\"),\n",
       "            $.getScript(\"https://cdnjs.cloudflare.com/ajax/libs/wavedrom/1.6.2/wavedrom.min.js\"),\n",
       "            $.Deferred(function( deferred ){\n",
       "                $( deferred.resolve );\n",
       "            })).done(function(){\n",
       "                WaveDrom.ProcessAll();\n",
       "            });"
      ],
      "text/plain": [
       "<IPython.core.display.Javascript object>"
      ]
     },
     "metadata": {},
     "output_type": "display_data"
    }
   ],
   "source": [
    "#simulation\n",
    "sim_trace = pyrtl.SimulationTrace()\n",
    "sim = pyrtl.Simulation(tracer=sim_trace)\n",
    "\n",
    "# Provide example inputs and simulate a few cycles\n",
    "for cycle in range(3):\n",
    "    inputs = {f'a{i}': i+1 for i in range(4)}   # a = [1,2,3,4]\n",
    "    inputs.update({f'b{i}': (i+2) for i in range(4)})  # b = [2,3,4,5]\n",
    "    sim.step(inputs)\n",
    "    print(f\"Cycle {cycle}: out = {sim.inspect(out)}\")\n",
    "\n",
    "#this is what it should render as:\n",
    "#if this doesnt work, save it as an html file and view it externally lmao\n",
    "sim_trace.render_trace()"
   ]
  },
  {
   "cell_type": "markdown",
   "id": "f343ee59-4f1d-4748-b6bd-52ac61096e26",
   "metadata": {},
   "source": [
    "HOLDUP A MINUTE!\n",
    "Why is my cycle 0 to cycle 2 output the same??? What does this mean?\n",
    "\n",
    "There are no registers (flip-flops, memory, etc.), meaning:\n",
    "* The computation happens instantly within one cycle (cuz we fast as fuq)\n",
    "* Nothing depends on a previous tick.\n",
    "* So every tick (cycle 0, 1, 2, …), we're just re-evaluating the same logic → same result.\n",
    "\n",
    "Let's compare our parallel multiply concept with the 'default' multiply via cycle counts (speed)"
   ]
  },
  {
   "cell_type": "code",
   "execution_count": 50,
   "id": "39a668ee-50d7-422d-a504-a67109ff8fc8",
   "metadata": {},
   "outputs": [
    {
     "name": "stdout",
     "output_type": "stream",
     "text": [
      "Sequential multiply:\n"
     ]
    },
    {
     "ename": "PyrtlError",
     "evalue": "error, expecting a wirevector, int, or Verilog-style const string got {0: a0/16I, 1: a1/16I, 2: a2/16I, 3: a3/16I} instead",
     "output_type": "error",
     "traceback": [
      "\u001b[0;31m---------------------------------------------------------------------------\u001b[0m",
      "\u001b[0;31mPyrtlError\u001b[0m                                Traceback (most recent call last)",
      "Cell \u001b[0;32mIn[50], line 43\u001b[0m\n\u001b[1;32m     41\u001b[0m current_a\u001b[38;5;241m.\u001b[39mname \u001b[38;5;241m=\u001b[39m \u001b[38;5;124m'\u001b[39m\u001b[38;5;124mcurrent_a\u001b[39m\u001b[38;5;124m'\u001b[39m\n\u001b[1;32m     42\u001b[0m current_b\u001b[38;5;241m.\u001b[39mname \u001b[38;5;241m=\u001b[39m \u001b[38;5;124m'\u001b[39m\u001b[38;5;124mcurrent_b\u001b[39m\u001b[38;5;124m'\u001b[39m\n\u001b[0;32m---> 43\u001b[0m current_a \u001b[38;5;241m=\u001b[39m \u001b[43mpyrtl\u001b[49m\u001b[38;5;241;43m.\u001b[39;49m\u001b[43mselect\u001b[49m\u001b[43m(\u001b[49m\u001b[43mcounter\u001b[49m\u001b[43m,\u001b[49m\u001b[43m \u001b[49m\u001b[43mfalsecase\u001b[49m\u001b[38;5;241;43m=\u001b[39;49m\u001b[43ma\u001b[49m\u001b[43m[\u001b[49m\u001b[38;5;241;43m0\u001b[39;49m\u001b[43m]\u001b[49m\u001b[43m,\u001b[49m\u001b[43m \u001b[49m\u001b[43mtruecase\u001b[49m\u001b[38;5;241;43m=\u001b[39;49m\u001b[43m{\u001b[49m\u001b[43mi\u001b[49m\u001b[43m:\u001b[49m\u001b[43m \u001b[49m\u001b[43ma\u001b[49m\u001b[43m[\u001b[49m\u001b[43mi\u001b[49m\u001b[43m]\u001b[49m\u001b[43m \u001b[49m\u001b[38;5;28;43;01mfor\u001b[39;49;00m\u001b[43m \u001b[49m\u001b[43mi\u001b[49m\u001b[43m \u001b[49m\u001b[38;5;129;43;01min\u001b[39;49;00m\u001b[43m \u001b[49m\u001b[38;5;28;43mrange\u001b[39;49m\u001b[43m(\u001b[49m\u001b[38;5;241;43m4\u001b[39;49m\u001b[43m)\u001b[49m\u001b[43m}\u001b[49m\u001b[43m)\u001b[49m\n\u001b[1;32m     44\u001b[0m current_b \u001b[38;5;241m=\u001b[39m pyrtl\u001b[38;5;241m.\u001b[39mselect(counter, falsecase\u001b[38;5;241m=\u001b[39ma[\u001b[38;5;241m0\u001b[39m], truecase\u001b[38;5;241m=\u001b[39m{i: b[i] \u001b[38;5;28;01mfor\u001b[39;00m i \u001b[38;5;129;01min\u001b[39;00m \u001b[38;5;28mrange\u001b[39m(\u001b[38;5;241m4\u001b[39m)})\n\u001b[1;32m     45\u001b[0m prod \u001b[38;5;241m=\u001b[39m sim\u001b[38;5;241m.\u001b[39minspect(\u001b[38;5;124m'\u001b[39m\u001b[38;5;124mcurrent_product\u001b[39m\u001b[38;5;124m'\u001b[39m)\n",
      "File \u001b[0;32m~/.local/lib/python3.11/site-packages/pyrtl/corecircuits.py:153\u001b[0m, in \u001b[0;36mselect\u001b[0;34m(sel, truecase, falsecase)\u001b[0m\n\u001b[1;32m    109\u001b[0m \u001b[38;5;28;01mdef\u001b[39;00m \u001b[38;5;21mselect\u001b[39m(\n\u001b[1;32m    110\u001b[0m     sel: WireVectorLike, truecase: WireVectorLike, falsecase: WireVectorLike\n\u001b[1;32m    111\u001b[0m ) \u001b[38;5;241m-\u001b[39m\u001b[38;5;241m>\u001b[39m WireVector:\n\u001b[1;32m    112\u001b[0m \u001b[38;5;250m    \u001b[39m\u001b[38;5;124;03m\"\"\"Multiplexer returning ``truecase`` when ``sel == 1``, otherwise ``falsecase``.\u001b[39;00m\n\u001b[1;32m    113\u001b[0m \n\u001b[1;32m    114\u001b[0m \u001b[38;5;124;03m    ``select`` is equivalent to :func:`mux` with a 1-bit ``index``, except that\u001b[39;00m\n\u001b[0;32m   (...)\u001b[0m\n\u001b[1;32m    151\u001b[0m \u001b[38;5;124;03m             of ``truecase`` and ``falsecase``.\u001b[39;00m\n\u001b[1;32m    152\u001b[0m \u001b[38;5;124;03m    \"\"\"\u001b[39;00m\n\u001b[0;32m--> 153\u001b[0m     sel, f, t \u001b[38;5;241m=\u001b[39m (as_wires(w) \u001b[38;5;28;01mfor\u001b[39;00m w \u001b[38;5;129;01min\u001b[39;00m (sel, falsecase, truecase))\n\u001b[1;32m    154\u001b[0m     f, t \u001b[38;5;241m=\u001b[39m match_bitwidth(f, t)\n\u001b[1;32m    155\u001b[0m     outwire \u001b[38;5;241m=\u001b[39m WireVector(bitwidth\u001b[38;5;241m=\u001b[39m\u001b[38;5;28mlen\u001b[39m(f))\n",
      "File \u001b[0;32m~/.local/lib/python3.11/site-packages/pyrtl/corecircuits.py:153\u001b[0m, in \u001b[0;36m<genexpr>\u001b[0;34m(.0)\u001b[0m\n\u001b[1;32m    109\u001b[0m \u001b[38;5;28;01mdef\u001b[39;00m \u001b[38;5;21mselect\u001b[39m(\n\u001b[1;32m    110\u001b[0m     sel: WireVectorLike, truecase: WireVectorLike, falsecase: WireVectorLike\n\u001b[1;32m    111\u001b[0m ) \u001b[38;5;241m-\u001b[39m\u001b[38;5;241m>\u001b[39m WireVector:\n\u001b[1;32m    112\u001b[0m \u001b[38;5;250m    \u001b[39m\u001b[38;5;124;03m\"\"\"Multiplexer returning ``truecase`` when ``sel == 1``, otherwise ``falsecase``.\u001b[39;00m\n\u001b[1;32m    113\u001b[0m \n\u001b[1;32m    114\u001b[0m \u001b[38;5;124;03m    ``select`` is equivalent to :func:`mux` with a 1-bit ``index``, except that\u001b[39;00m\n\u001b[0;32m   (...)\u001b[0m\n\u001b[1;32m    151\u001b[0m \u001b[38;5;124;03m             of ``truecase`` and ``falsecase``.\u001b[39;00m\n\u001b[1;32m    152\u001b[0m \u001b[38;5;124;03m    \"\"\"\u001b[39;00m\n\u001b[0;32m--> 153\u001b[0m     sel, f, t \u001b[38;5;241m=\u001b[39m (\u001b[43mas_wires\u001b[49m\u001b[43m(\u001b[49m\u001b[43mw\u001b[49m\u001b[43m)\u001b[49m \u001b[38;5;28;01mfor\u001b[39;00m w \u001b[38;5;129;01min\u001b[39;00m (sel, falsecase, truecase))\n\u001b[1;32m    154\u001b[0m     f, t \u001b[38;5;241m=\u001b[39m match_bitwidth(f, t)\n\u001b[1;32m    155\u001b[0m     outwire \u001b[38;5;241m=\u001b[39m WireVector(bitwidth\u001b[38;5;241m=\u001b[39m\u001b[38;5;28mlen\u001b[39m(f))\n",
      "File \u001b[0;32m~/.local/lib/python3.11/site-packages/pyrtl/corecircuits.py:821\u001b[0m, in \u001b[0;36mas_wires\u001b[0;34m(val, bitwidth, truncating, block)\u001b[0m\n\u001b[1;32m    816\u001b[0m \u001b[38;5;28;01mif\u001b[39;00m \u001b[38;5;129;01mnot\u001b[39;00m \u001b[38;5;28misinstance\u001b[39m(val, WireVector):\n\u001b[1;32m    817\u001b[0m     msg \u001b[38;5;241m=\u001b[39m (\n\u001b[1;32m    818\u001b[0m         \u001b[38;5;124m\"\u001b[39m\u001b[38;5;124merror, expecting a wirevector, int, or Verilog-style const string got \u001b[39m\u001b[38;5;124m\"\u001b[39m\n\u001b[1;32m    819\u001b[0m         \u001b[38;5;124mf\u001b[39m\u001b[38;5;124m\"\u001b[39m\u001b[38;5;132;01m{\u001b[39;00mval\u001b[38;5;132;01m}\u001b[39;00m\u001b[38;5;124m instead\u001b[39m\u001b[38;5;124m\"\u001b[39m\n\u001b[1;32m    820\u001b[0m     )\n\u001b[0;32m--> 821\u001b[0m     \u001b[38;5;28;01mraise\u001b[39;00m PyrtlError(msg)\n\u001b[1;32m    822\u001b[0m \u001b[38;5;28;01mif\u001b[39;00m bitwidth \u001b[38;5;241m==\u001b[39m \u001b[38;5;124m\"\u001b[39m\u001b[38;5;124m0\u001b[39m\u001b[38;5;124m\"\u001b[39m:\n\u001b[1;32m    823\u001b[0m     msg \u001b[38;5;241m=\u001b[39m \u001b[38;5;124m\"\u001b[39m\u001b[38;5;124merror, bitwidth must be >= 1\u001b[39m\u001b[38;5;124m\"\u001b[39m\n",
      "\u001b[0;31mPyrtlError\u001b[0m: error, expecting a wirevector, int, or Verilog-style const string got {0: a0/16I, 1: a1/16I, 2: a2/16I, 3: a3/16I} instead"
     ]
    }
   ],
   "source": [
    "import pyrtl\n",
    "pyrtl.reset_working_block()\n",
    "\n",
    "# Inputs/Outputs\n",
    "a = [pyrtl.Input(16, f'a{i}') for i in range(4)]\n",
    "b = [pyrtl.Input(16, f'b{i}') for i in range(4)]\n",
    "out = pyrtl.Output(32, 'out')\n",
    "\n",
    "# Registers\n",
    "acc = pyrtl.Register(32, 'acc')\n",
    "counter = pyrtl.Register(2, 'counter')\n",
    "\n",
    "# Multiplexer to select element based on counter\n",
    "current_a = pyrtl.mux(counter == 0, a[0],\n",
    "               pyrtl.mux(counter == 1, a[1],\n",
    "               pyrtl.mux(counter == 2, a[2], a[3])))\n",
    "current_b = pyrtl.mux(counter == 0, b[0],\n",
    "               pyrtl.mux(counter == 1, b[1],\n",
    "               pyrtl.mux(counter == 2, b[2], b[3])))\n",
    "\n",
    "# Multiply and accumulate\n",
    "current_product = current_a * current_b\n",
    "current_product.name = 'current_product'  # <-- Add this line!\n",
    "\n",
    "acc.next <<= acc + current_product\n",
    "out <<= acc\n",
    "\n",
    "# Increment counter\n",
    "counter.next <<= counter + 1\n",
    "\n",
    "# Simulation\n",
    "sim = pyrtl.Simulation()\n",
    "print(\"Sequential multiply:\")\n",
    "for cycle in range(4):\n",
    "    inputs = {f'a{i}': i+1 for i in range(4)}\n",
    "    inputs.update({f'b{i}': i+2 for i in range(4)})\n",
    "    sim.step(inputs)\n",
    "    \n",
    "    # Debug: inspect the mux outputs\n",
    "    cnt = sim.inspect('counter')\n",
    "    current_a.name = 'current_a'\n",
    "    current_b.name = 'current_b'\n",
    "    current_a = pyrtl.select(counter, falsecase=a[0], truecase={i: a[i] for i in range(4)})\n",
    "    current_b = pyrtl.select(counter, falsecase=a[0], truecase={i: b[i] for i in range(4)})\n",
    "    prod = sim.inspect('current_product')\n",
    "    acc_val = sim.inspect('acc')\n",
    "    \n",
    "    print(f\"Cycle {cycle}: counter={cnt}, current_a={curr_a}, current_b={curr_b}, product={prod}, acc={acc_val}\")"
   ]
  },
  {
   "cell_type": "code",
   "execution_count": null,
   "id": "075b3152-e59a-446e-8878-2ecfcae7f8cd",
   "metadata": {},
   "outputs": [],
   "source": []
  }
 ],
 "metadata": {
  "kernelspec": {
   "display_name": "Python 3 (ipykernel)",
   "language": "python",
   "name": "python3"
  },
  "language_info": {
   "codemirror_mode": {
    "name": "ipython",
    "version": 3
   },
   "file_extension": ".py",
   "mimetype": "text/x-python",
   "name": "python",
   "nbconvert_exporter": "python",
   "pygments_lexer": "ipython3",
   "version": "3.11.9"
  }
 },
 "nbformat": 4,
 "nbformat_minor": 5
}
